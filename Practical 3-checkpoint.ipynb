{
 "cells": [
  {
   "cell_type": "markdown",
   "id": "1f7fc69f",
   "metadata": {},
   "source": [
    "# Practical 3"
   ]
  },
  {
   "cell_type": "code",
   "execution_count": 1,
   "id": "328f16a2",
   "metadata": {},
   "outputs": [],
   "source": [
    "# Stationery shop dataset\n",
    "\n",
    "# This dataset consists of transactions where each transaction contains a list of items purchased together.\n",
    "\n",
    "dataset = [\n",
    "    ['Pen', 'Notebook', 'Eraser', 'Sharpener'],\n",
    "    ['Pencil', 'Notebook', 'Ruler', 'Marker'],\n",
    "    ['Pen', 'Highlighter', 'Notebook'],\n",
    "    ['Stapler', 'Paper Clips', 'Glue', 'Notebook'],\n",
    "    ['Pen', 'Ruler', 'Sharpener', 'Notebook', 'Marker'],\n",
    "    ['Eraser', 'Sticky Notes', 'Glue'],\n",
    "    ['Pen', 'Notebook', 'Marker', 'Stapler'],\n",
    "    ['Pencil', 'Eraser', 'Sharpener', 'Glue'],\n",
    "    ['Highlighter', 'Notebook', 'Paper Clips'],\n",
    "    ['Pen', 'Notebook', 'Pencil', 'Eraser']\n",
    "]"
   ]
  },
  {
   "cell_type": "code",
   "execution_count": 2,
   "id": "b50dc49c",
   "metadata": {},
   "outputs": [],
   "source": [
    "#  FP-Tree Node Class\n",
    "# A class that defines the structure of a node in the FP-Tree.\n",
    "class FPTreeNode:\n",
    "    def __init__(self, item, count):\n",
    "        self.item = item   # Represents an item.\n",
    "        self.count = count  # Stores how many times the item appears\n",
    "        self.children = {}   # Dictionary holding references to child nodes."
   ]
  },
  {
   "cell_type": "code",
   "execution_count": 3,
   "id": "d079505c",
   "metadata": {},
   "outputs": [],
   "source": [
    "# Pre-processing to filter transactions\n",
    "# Cleans and reorders the transactions before building the FP-Tree.\n",
    "def pre_process(transactions, min_support):\n",
    "    support = {}\n",
    "    for transaction in transactions:\n",
    "        for item in transaction:\n",
    "            support[item] = support.get(item, 0) + 1\n",
    "\n",
    "    # Sorting items based on frequency\n",
    "    sorted_support = dict(sorted(support.items(), key=lambda item: item[1], reverse=True))\n",
    "\n",
    "    # Removing items below min support\n",
    "    filtered_support = {k: v for k, v in sorted_support.items() if v >= min_support}\n",
    "\n",
    "    # Sorting transactions based on filtered support\n",
    "    processed_list = []\n",
    "    for transaction in transactions:\n",
    "        filtered_transaction = [item for item in transaction if item in filtered_support]\n",
    "        processed_list.append(sorted(filtered_transaction, key=lambda x: filtered_support[x], reverse=True))\n",
    "\n",
    "    return processed_list\n",
    "\n",
    "\n",
    "'''\n",
    "Count Frequency:\n",
    "It calculates the support count (occurrences) of each item across all transactions.\n",
    "\n",
    "Sort Items by Frequency:\n",
    "Items are sorted in descending order based on frequency.\n",
    "\n",
    "Filter by Minimum Support:\n",
    "Items that appear less than min_support times are removed.\n",
    "\n",
    "Sort Transactions:\n",
    "Each transaction is reordered based on item frequency (most frequent items first).\n",
    "\n",
    "\n",
    "'''"
   ]
  },
  {
   "cell_type": "code",
   "execution_count": 4,
   "id": "68716de5",
   "metadata": {},
   "outputs": [],
   "source": [
    "# Function to create FP-Tree\n",
    "\n",
    "#  Builds the FP-Tree from the preprocessed transactions.\n",
    "\n",
    "def create_tree(root, processed_list, i, j):\n",
    "    if j >= len(processed_list[i]):\n",
    "        return\n",
    "    item = processed_list[i][j]\n",
    "    if item in root.children:\n",
    "        root.children[item].count += 1\n",
    "    else:\n",
    "        root.children[item] = FPTreeNode(item, 1)\n",
    "    \n",
    "    create_tree(root.children[item], processed_list, i, j + 1)\n",
    "    \n",
    "    \n",
    "# Recursively inserts items of a transaction into the tree.\n",
    "\n",
    "# If an item already exists, its count is incremented.\n",
    "\n",
    "If not, a new node is created."
   ]
  },
  {
   "cell_type": "code",
   "execution_count": 5,
   "id": "e92f999a",
   "metadata": {},
   "outputs": [],
   "source": [
    "# Function to print FP-Tree\n",
    " # Prints the structure of the FP-Tree in a readable format.\n",
    "def print_tree(node, indent=0):\n",
    "    if node.item is not None:\n",
    "        print(\"|  \" * indent + f\"-{node.item} ({node.count})\")\n",
    "    for child in node.children.values():\n",
    "        print_tree(child, indent + 1)"
   ]
  },
  {
   "cell_type": "code",
   "execution_count": 6,
   "id": "21c714bb",
   "metadata": {},
   "outputs": [],
   "source": [
    "# Function to construct and display FP-Tree\n",
    "\n",
    "# A root node (None) is created to start the tree\n",
    "\n",
    "def construct_FPTree(transactions, min_support):\n",
    "    processed_list = pre_process(transactions, min_support)\n",
    "    root = FPTreeNode(\"Root\", 0)\n",
    "\n",
    "    for i in range(len(processed_list)):\n",
    "        create_tree(root, processed_list, i, 0)\n",
    "    \n",
    "    print_tree(root)\n",
    "    \n",
    "'''\n",
    "The function builds an FP-tree from preprocessed transaction\n",
    "\n",
    "Steps:\n",
    "1. Start with a root node (None item)\n",
    "2. For each transactions:\n",
    "   a. Traverse existing nodes if items already exist.\n",
    "   b. Create new nodes if the item is new.\n",
    "   c. Update counts accordingly.\n",
    "'''"
   ]
  },
  {
   "cell_type": "code",
   "execution_count": 7,
   "id": "1bae6840",
   "metadata": {},
   "outputs": [
    {
     "name": "stdout",
     "output_type": "stream",
     "text": [
      "-Root (0)\n",
      "|  -Notebook (8)\n",
      "|  |  -Pen (5)\n",
      "|  |  |  -Eraser (2)\n",
      "|  |  |  |  -Sharpener (1)\n",
      "|  |  |  |  -Pencil (1)\n",
      "|  |  |  -Highlighter (1)\n",
      "|  |  |  -Sharpener (1)\n",
      "|  |  |  |  -Marker (1)\n",
      "|  |  |  |  |  -Ruler (1)\n",
      "|  |  |  -Marker (1)\n",
      "|  |  |  |  -Stapler (1)\n",
      "|  |  -Pencil (1)\n",
      "|  |  |  -Marker (1)\n",
      "|  |  |  |  -Ruler (1)\n",
      "|  |  -Glue (1)\n",
      "|  |  |  -Stapler (1)\n",
      "|  |  |  |  -Paper Clips (1)\n",
      "|  |  -Highlighter (1)\n",
      "|  |  |  -Paper Clips (1)\n",
      "|  -Eraser (2)\n",
      "|  |  -Glue (1)\n",
      "|  |  -Pencil (1)\n",
      "|  |  |  -Sharpener (1)\n",
      "|  |  |  |  -Glue (1)\n"
     ]
    }
   ],
   "source": [
    "# Run FP-Tree on Stationery Dataset\n",
    "construct_FPTree(dataset, 2)"
   ]
  },
  {
   "cell_type": "code",
   "execution_count": 8,
   "id": "918e8f73",
   "metadata": {},
   "outputs": [],
   "source": [
    "# FP-Growth using mlxtend Library\n",
    "from mlxtend.frequent_patterns import fpgrowth\n",
    "from mlxtend.frequent_patterns import association_rules\n",
    "from mlxtend.preprocessing import TransactionEncoder\n",
    "import pandas as pd"
   ]
  },
  {
   "cell_type": "code",
   "execution_count": 9,
   "id": "e2d4de5c",
   "metadata": {},
   "outputs": [],
   "source": [
    "# Stationery shop dataset\n",
    "dataset = [\n",
    "    ['Pen', 'Notebook', 'Eraser', 'Sharpener'],\n",
    "    ['Pencil', 'Notebook', 'Ruler', 'Marker'],\n",
    "    ['Pen', 'Highlighter', 'Notebook'],\n",
    "    ['Stapler', 'Paper Clips', 'Glue', 'Notebook'],\n",
    "    ['Pen', 'Ruler', 'Sharpener', 'Notebook', 'Marker'],\n",
    "    ['Eraser', 'Sticky Notes', 'Glue'],\n",
    "    ['Pen', 'Notebook', 'Marker', 'Stapler'],\n",
    "    ['Pencil', 'Eraser', 'Sharpener', 'Glue'],\n",
    "    ['Highlighter', 'Notebook', 'Paper Clips'],\n",
    "    ['Pen', 'Notebook', 'Pencil', 'Eraser']\n",
    "]"
   ]
  },
  {
   "cell_type": "code",
   "execution_count": 10,
   "id": "a257ecf7",
   "metadata": {},
   "outputs": [],
   "source": [
    "# Convert dataset into a format suitable for FP-Growth\n",
    "te = TransactionEncoder()\n",
    "te_ary = te.fit(dataset).transform(dataset)\n",
    "df = pd.DataFrame(te_ary, columns=te.columns_)\n",
    "\n",
    "# TransactionEncoder turns the list of transactions into a binary matrix."
   ]
  },
  {
   "cell_type": "code",
   "execution_count": 11,
   "id": "4a4364de",
   "metadata": {},
   "outputs": [],
   "source": [
    "# Apply FP-Growth algorithm\n",
    "min_support = 0.2  # Minimum support threshold (adjustable)\n",
    "frequent_itemsets = fpgrowth(df, min_support=min_support, use_colnames=True)"
   ]
  },
  {
   "cell_type": "code",
   "execution_count": 12,
   "id": "217caf09",
   "metadata": {},
   "outputs": [
    {
     "name": "stdout",
     "output_type": "stream",
     "text": [
      "Frequent Itemsets:\n",
      "    support                    itemsets\n",
      "0       0.8                  (Notebook)\n",
      "1       0.5                       (Pen)\n",
      "2       0.4                    (Eraser)\n",
      "3       0.3                 (Sharpener)\n",
      "4       0.3                    (Pencil)\n",
      "5       0.3                    (Marker)\n",
      "6       0.2                     (Ruler)\n",
      "7       0.2               (Highlighter)\n",
      "8       0.3                      (Glue)\n",
      "9       0.2                   (Stapler)\n",
      "10      0.2               (Paper Clips)\n",
      "11      0.5             (Pen, Notebook)\n",
      "12      0.2               (Pen, Eraser)\n",
      "13      0.2          (Eraser, Notebook)\n",
      "14      0.2     (Pen, Eraser, Notebook)\n",
      "15      0.2         (Sharpener, Eraser)\n",
      "16      0.2            (Sharpener, Pen)\n",
      "17      0.2       (Sharpener, Notebook)\n",
      "18      0.2  (Sharpener, Pen, Notebook)\n",
      "19      0.2          (Pencil, Notebook)\n",
      "20      0.2            (Pencil, Eraser)\n",
      "21      0.3          (Marker, Notebook)\n",
      "22      0.2               (Pen, Marker)\n",
      "23      0.2     (Pen, Marker, Notebook)\n",
      "24      0.2             (Ruler, Marker)\n",
      "25      0.2           (Ruler, Notebook)\n",
      "26      0.2   (Ruler, Marker, Notebook)\n",
      "27      0.2     (Highlighter, Notebook)\n",
      "28      0.2              (Glue, Eraser)\n",
      "29      0.2         (Stapler, Notebook)\n",
      "30      0.2     (Paper Clips, Notebook)\n"
     ]
    }
   ],
   "source": [
    "# Display frequent itemsets\n",
    "print(\"Frequent Itemsets:\")\n",
    "print(frequent_itemsets)\n",
    "\n",
    "# min_support = 0.2: An itemset must appear in at least 20% of transactions."
   ]
  },
  {
   "cell_type": "code",
   "execution_count": 13,
   "id": "e80cce89",
   "metadata": {},
   "outputs": [],
   "source": [
    "#  Generate association rules\n",
    "min_confidence = 0.5  # Minimum confidence threshold (adjustable)\n",
    "rules = association_rules(frequent_itemsets, metric=\"confidence\", min_threshold=min_confidence)\n",
    "\n",
    "# Confidence: How often consequents are purchased when antecedents are purchased."
   ]
  },
  {
   "cell_type": "code",
   "execution_count": 14,
   "id": "b021e455",
   "metadata": {},
   "outputs": [
    {
     "name": "stdout",
     "output_type": "stream",
     "text": [
      "\n",
      "Association Rules:\n",
      "              antecedents         consequents  support  confidence      lift\n",
      "0                   (Pen)          (Notebook)      0.5    1.000000  1.250000\n",
      "1              (Notebook)               (Pen)      0.5    0.625000  1.250000\n",
      "2                (Eraser)               (Pen)      0.2    0.500000  1.000000\n",
      "3                (Eraser)          (Notebook)      0.2    0.500000  0.625000\n",
      "4           (Pen, Eraser)          (Notebook)      0.2    1.000000  1.250000\n",
      "5      (Eraser, Notebook)               (Pen)      0.2    1.000000  2.000000\n",
      "6                (Eraser)     (Pen, Notebook)      0.2    0.500000  1.000000\n",
      "7             (Sharpener)            (Eraser)      0.2    0.666667  1.666667\n",
      "8                (Eraser)         (Sharpener)      0.2    0.500000  1.666667\n",
      "9             (Sharpener)               (Pen)      0.2    0.666667  1.333333\n",
      "10            (Sharpener)          (Notebook)      0.2    0.666667  0.833333\n",
      "11       (Sharpener, Pen)          (Notebook)      0.2    1.000000  1.250000\n",
      "12  (Sharpener, Notebook)               (Pen)      0.2    1.000000  2.000000\n",
      "13            (Sharpener)     (Pen, Notebook)      0.2    0.666667  1.333333\n",
      "14               (Pencil)          (Notebook)      0.2    0.666667  0.833333\n",
      "15               (Pencil)            (Eraser)      0.2    0.666667  1.666667\n",
      "16               (Eraser)            (Pencil)      0.2    0.500000  1.666667\n",
      "17               (Marker)          (Notebook)      0.3    1.000000  1.250000\n",
      "18               (Marker)               (Pen)      0.2    0.666667  1.333333\n",
      "19          (Pen, Marker)          (Notebook)      0.2    1.000000  1.250000\n",
      "20     (Marker, Notebook)               (Pen)      0.2    0.666667  1.333333\n",
      "21               (Marker)     (Pen, Notebook)      0.2    0.666667  1.333333\n",
      "22                (Ruler)            (Marker)      0.2    1.000000  3.333333\n",
      "23               (Marker)             (Ruler)      0.2    0.666667  3.333333\n",
      "24                (Ruler)          (Notebook)      0.2    1.000000  1.250000\n",
      "25        (Ruler, Marker)          (Notebook)      0.2    1.000000  1.250000\n",
      "26      (Ruler, Notebook)            (Marker)      0.2    1.000000  3.333333\n",
      "27     (Marker, Notebook)             (Ruler)      0.2    0.666667  3.333333\n",
      "28                (Ruler)  (Marker, Notebook)      0.2    1.000000  3.333333\n",
      "29               (Marker)   (Ruler, Notebook)      0.2    0.666667  3.333333\n",
      "30          (Highlighter)          (Notebook)      0.2    1.000000  1.250000\n",
      "31                 (Glue)            (Eraser)      0.2    0.666667  1.666667\n",
      "32               (Eraser)              (Glue)      0.2    0.500000  1.666667\n",
      "33              (Stapler)          (Notebook)      0.2    1.000000  1.250000\n",
      "34          (Paper Clips)          (Notebook)      0.2    1.000000  1.250000\n"
     ]
    }
   ],
   "source": [
    "# Printing only the association rules\n",
    "print(\"\\nAssociation Rules:\")\n",
    "print(rules[['antecedents', 'consequents', 'support', 'confidence', 'lift']])"
   ]
  },
  {
   "cell_type": "code",
   "execution_count": null,
   "id": "cad300c3",
   "metadata": {},
   "outputs": [],
   "source": []
  }
 ],
 "metadata": {
  "kernelspec": {
   "display_name": "Python 3 (ipykernel)",
   "language": "python",
   "name": "python3"
  },
  "language_info": {
   "codemirror_mode": {
    "name": "ipython",
    "version": 3
   },
   "file_extension": ".py",
   "mimetype": "text/x-python",
   "name": "python",
   "nbconvert_exporter": "python",
   "pygments_lexer": "ipython3",
   "version": "3.11.5"
  }
 },
 "nbformat": 4,
 "nbformat_minor": 5
}

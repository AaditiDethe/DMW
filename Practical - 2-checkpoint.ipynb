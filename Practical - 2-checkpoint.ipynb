{
 "cells": [
  {
   "cell_type": "markdown",
   "id": "dfbbca36",
   "metadata": {},
   "source": [
    "# Practical - 2\n",
    "\n",
    "Use any dataset and perform operations with suitable programming language.\n",
    "1. Find standard deviation, variance of every numerical attribute.\n",
    "2. Find Covariance and perform correlation analysis using correlation coefficient.\n",
    "3. How many independent features are present in the given dataset.\n",
    "4. Can we identify unwanted features.\n",
    "5. Perform the data discretization using equi frequency binning method on any numeric attributes.\n",
    "6. Normalize the numeric attributes using min-max normalization, Z-Score normalization and decimal scaling normalization."
   ]
  },
  {
   "cell_type": "markdown",
   "id": "eaf397f6",
   "metadata": {},
   "source": [
    "#### Correlation Coefficient: The correlation coefficient is a statistical measure that quantifies the strength and direction of a relationship between two variables. It is denoted by r and ranges from -1 to 1."
   ]
  },
  {
   "cell_type": "code",
   "execution_count": 26,
   "id": "321df69b",
   "metadata": {},
   "outputs": [],
   "source": [
    "import pandas as pd\n",
    "import numpy as np\n",
    "from sklearn.preprocessing import MinMaxScaler, StandardScaler"
   ]
  },
  {
   "cell_type": "code",
   "execution_count": 27,
   "id": "bf108f07",
   "metadata": {},
   "outputs": [],
   "source": [
    "df = pd.read_csv(\"C:/Users/aadit/OneDrive/文档/Engineering TY/Sem-6th/Data_Mining/IRIS.csv\")"
   ]
  },
  {
   "cell_type": "code",
   "execution_count": 28,
   "id": "1cc8f9a8",
   "metadata": {},
   "outputs": [
    {
     "data": {
      "text/html": [
       "<div>\n",
       "<style scoped>\n",
       "    .dataframe tbody tr th:only-of-type {\n",
       "        vertical-align: middle;\n",
       "    }\n",
       "\n",
       "    .dataframe tbody tr th {\n",
       "        vertical-align: top;\n",
       "    }\n",
       "\n",
       "    .dataframe thead th {\n",
       "        text-align: right;\n",
       "    }\n",
       "</style>\n",
       "<table border=\"1\" class=\"dataframe\">\n",
       "  <thead>\n",
       "    <tr style=\"text-align: right;\">\n",
       "      <th></th>\n",
       "      <th>sepal_length</th>\n",
       "      <th>sepal_width</th>\n",
       "      <th>petal_length</th>\n",
       "      <th>petal_width</th>\n",
       "      <th>species</th>\n",
       "    </tr>\n",
       "  </thead>\n",
       "  <tbody>\n",
       "    <tr>\n",
       "      <th>0</th>\n",
       "      <td>5.1</td>\n",
       "      <td>3.5</td>\n",
       "      <td>1.4</td>\n",
       "      <td>0.2</td>\n",
       "      <td>Iris-setosa</td>\n",
       "    </tr>\n",
       "    <tr>\n",
       "      <th>1</th>\n",
       "      <td>4.9</td>\n",
       "      <td>3.0</td>\n",
       "      <td>1.4</td>\n",
       "      <td>0.2</td>\n",
       "      <td>Iris-setosa</td>\n",
       "    </tr>\n",
       "    <tr>\n",
       "      <th>2</th>\n",
       "      <td>4.7</td>\n",
       "      <td>3.2</td>\n",
       "      <td>1.3</td>\n",
       "      <td>0.2</td>\n",
       "      <td>Iris-setosa</td>\n",
       "    </tr>\n",
       "    <tr>\n",
       "      <th>3</th>\n",
       "      <td>4.6</td>\n",
       "      <td>3.1</td>\n",
       "      <td>1.5</td>\n",
       "      <td>0.2</td>\n",
       "      <td>Iris-setosa</td>\n",
       "    </tr>\n",
       "    <tr>\n",
       "      <th>4</th>\n",
       "      <td>5.0</td>\n",
       "      <td>3.6</td>\n",
       "      <td>1.4</td>\n",
       "      <td>0.2</td>\n",
       "      <td>Iris-setosa</td>\n",
       "    </tr>\n",
       "  </tbody>\n",
       "</table>\n",
       "</div>"
      ],
      "text/plain": [
       "   sepal_length  sepal_width  petal_length  petal_width      species\n",
       "0           5.1          3.5           1.4          0.2  Iris-setosa\n",
       "1           4.9          3.0           1.4          0.2  Iris-setosa\n",
       "2           4.7          3.2           1.3          0.2  Iris-setosa\n",
       "3           4.6          3.1           1.5          0.2  Iris-setosa\n",
       "4           5.0          3.6           1.4          0.2  Iris-setosa"
      ]
     },
     "execution_count": 28,
     "metadata": {},
     "output_type": "execute_result"
    }
   ],
   "source": [
    "df.head()"
   ]
  },
  {
   "cell_type": "code",
   "execution_count": 29,
   "id": "28e89257",
   "metadata": {},
   "outputs": [
    {
     "data": {
      "text/html": [
       "<div>\n",
       "<style scoped>\n",
       "    .dataframe tbody tr th:only-of-type {\n",
       "        vertical-align: middle;\n",
       "    }\n",
       "\n",
       "    .dataframe tbody tr th {\n",
       "        vertical-align: top;\n",
       "    }\n",
       "\n",
       "    .dataframe thead th {\n",
       "        text-align: right;\n",
       "    }\n",
       "</style>\n",
       "<table border=\"1\" class=\"dataframe\">\n",
       "  <thead>\n",
       "    <tr style=\"text-align: right;\">\n",
       "      <th></th>\n",
       "      <th>sepal_length</th>\n",
       "      <th>sepal_width</th>\n",
       "      <th>petal_length</th>\n",
       "      <th>petal_width</th>\n",
       "      <th>species</th>\n",
       "    </tr>\n",
       "  </thead>\n",
       "  <tbody>\n",
       "    <tr>\n",
       "      <th>145</th>\n",
       "      <td>6.7</td>\n",
       "      <td>3.0</td>\n",
       "      <td>5.2</td>\n",
       "      <td>2.3</td>\n",
       "      <td>Iris-virginica</td>\n",
       "    </tr>\n",
       "    <tr>\n",
       "      <th>146</th>\n",
       "      <td>6.3</td>\n",
       "      <td>2.5</td>\n",
       "      <td>5.0</td>\n",
       "      <td>1.9</td>\n",
       "      <td>Iris-virginica</td>\n",
       "    </tr>\n",
       "    <tr>\n",
       "      <th>147</th>\n",
       "      <td>6.5</td>\n",
       "      <td>3.0</td>\n",
       "      <td>5.2</td>\n",
       "      <td>2.0</td>\n",
       "      <td>Iris-virginica</td>\n",
       "    </tr>\n",
       "    <tr>\n",
       "      <th>148</th>\n",
       "      <td>6.2</td>\n",
       "      <td>3.4</td>\n",
       "      <td>5.4</td>\n",
       "      <td>2.3</td>\n",
       "      <td>Iris-virginica</td>\n",
       "    </tr>\n",
       "    <tr>\n",
       "      <th>149</th>\n",
       "      <td>5.9</td>\n",
       "      <td>3.0</td>\n",
       "      <td>5.1</td>\n",
       "      <td>1.8</td>\n",
       "      <td>Iris-virginica</td>\n",
       "    </tr>\n",
       "  </tbody>\n",
       "</table>\n",
       "</div>"
      ],
      "text/plain": [
       "     sepal_length  sepal_width  petal_length  petal_width         species\n",
       "145           6.7          3.0           5.2          2.3  Iris-virginica\n",
       "146           6.3          2.5           5.0          1.9  Iris-virginica\n",
       "147           6.5          3.0           5.2          2.0  Iris-virginica\n",
       "148           6.2          3.4           5.4          2.3  Iris-virginica\n",
       "149           5.9          3.0           5.1          1.8  Iris-virginica"
      ]
     },
     "execution_count": 29,
     "metadata": {},
     "output_type": "execute_result"
    }
   ],
   "source": [
    "df.tail()"
   ]
  },
  {
   "cell_type": "code",
   "execution_count": 30,
   "id": "68ebd632",
   "metadata": {},
   "outputs": [],
   "source": [
    "# Drop categorical column\n",
    "iris_numeric = df.drop(columns=['species'])"
   ]
  },
  {
   "cell_type": "code",
   "execution_count": 32,
   "id": "99be51da",
   "metadata": {},
   "outputs": [
    {
     "name": "stderr",
     "output_type": "stream",
     "text": [
      "C:\\Users\\aadit\\AppData\\Local\\Temp\\ipykernel_2040\\3286831628.py:1: FutureWarning: The default value of numeric_only in DataFrame.std is deprecated. In a future version, it will default to False. In addition, specifying 'numeric_only=None' is deprecated. Select only valid columns or specify the value of numeric_only to silence this warning.\n",
      "  std = df.std()\n"
     ]
    },
    {
     "data": {
      "text/plain": [
       "sepal_length    0.828066\n",
       "sepal_width     0.433594\n",
       "petal_length    1.764420\n",
       "petal_width     0.763161\n",
       "dtype: float64"
      ]
     },
     "execution_count": 32,
     "metadata": {},
     "output_type": "execute_result"
    }
   ],
   "source": [
    "# std() calculates the spread of the data for each column.\n",
    "std = df.std()\n",
    "std"
   ]
  },
  {
   "cell_type": "code",
   "execution_count": 33,
   "id": "2a72ed74",
   "metadata": {},
   "outputs": [
    {
     "name": "stderr",
     "output_type": "stream",
     "text": [
      "C:\\Users\\aadit\\AppData\\Local\\Temp\\ipykernel_2040\\497365404.py:1: FutureWarning: The default value of numeric_only in DataFrame.var is deprecated. In a future version, it will default to False. In addition, specifying 'numeric_only=None' is deprecated. Select only valid columns or specify the value of numeric_only to silence this warning.\n",
      "  var = df.var()\n"
     ]
    },
    {
     "data": {
      "text/plain": [
       "sepal_length    0.685694\n",
       "sepal_width     0.188004\n",
       "petal_length    3.113179\n",
       "petal_width     0.582414\n",
       "dtype: float64"
      ]
     },
     "execution_count": 33,
     "metadata": {},
     "output_type": "execute_result"
    }
   ],
   "source": [
    "# var() calculates the variance , which measures how much the vlaues deviate from the mean\n",
    "var = df.var()\n",
    "var"
   ]
  },
  {
   "cell_type": "code",
   "execution_count": 34,
   "id": "0523dbac",
   "metadata": {},
   "outputs": [
    {
     "name": "stderr",
     "output_type": "stream",
     "text": [
      "C:\\Users\\aadit\\AppData\\Local\\Temp\\ipykernel_2040\\955732613.py:1: FutureWarning: The default value of numeric_only in DataFrame.cov is deprecated. In a future version, it will default to False. Select only valid columns or specify the value of numeric_only to silence this warning.\n",
      "  cov = df.cov()\n"
     ]
    },
    {
     "data": {
      "text/html": [
       "<div>\n",
       "<style scoped>\n",
       "    .dataframe tbody tr th:only-of-type {\n",
       "        vertical-align: middle;\n",
       "    }\n",
       "\n",
       "    .dataframe tbody tr th {\n",
       "        vertical-align: top;\n",
       "    }\n",
       "\n",
       "    .dataframe thead th {\n",
       "        text-align: right;\n",
       "    }\n",
       "</style>\n",
       "<table border=\"1\" class=\"dataframe\">\n",
       "  <thead>\n",
       "    <tr style=\"text-align: right;\">\n",
       "      <th></th>\n",
       "      <th>sepal_length</th>\n",
       "      <th>sepal_width</th>\n",
       "      <th>petal_length</th>\n",
       "      <th>petal_width</th>\n",
       "    </tr>\n",
       "  </thead>\n",
       "  <tbody>\n",
       "    <tr>\n",
       "      <th>sepal_length</th>\n",
       "      <td>0.685694</td>\n",
       "      <td>-0.039268</td>\n",
       "      <td>1.273682</td>\n",
       "      <td>0.516904</td>\n",
       "    </tr>\n",
       "    <tr>\n",
       "      <th>sepal_width</th>\n",
       "      <td>-0.039268</td>\n",
       "      <td>0.188004</td>\n",
       "      <td>-0.321713</td>\n",
       "      <td>-0.117981</td>\n",
       "    </tr>\n",
       "    <tr>\n",
       "      <th>petal_length</th>\n",
       "      <td>1.273682</td>\n",
       "      <td>-0.321713</td>\n",
       "      <td>3.113179</td>\n",
       "      <td>1.296387</td>\n",
       "    </tr>\n",
       "    <tr>\n",
       "      <th>petal_width</th>\n",
       "      <td>0.516904</td>\n",
       "      <td>-0.117981</td>\n",
       "      <td>1.296387</td>\n",
       "      <td>0.582414</td>\n",
       "    </tr>\n",
       "  </tbody>\n",
       "</table>\n",
       "</div>"
      ],
      "text/plain": [
       "              sepal_length  sepal_width  petal_length  petal_width\n",
       "sepal_length      0.685694    -0.039268      1.273682     0.516904\n",
       "sepal_width      -0.039268     0.188004     -0.321713    -0.117981\n",
       "petal_length      1.273682    -0.321713      3.113179     1.296387\n",
       "petal_width       0.516904    -0.117981      1.296387     0.582414"
      ]
     },
     "execution_count": 34,
     "metadata": {},
     "output_type": "execute_result"
    }
   ],
   "source": [
    "# cov() computes the covariance matrix, which shows how two features vary together.\n",
    "cov = df.cov()\n",
    "cov"
   ]
  },
  {
   "cell_type": "code",
   "execution_count": 35,
   "id": "67febae2",
   "metadata": {},
   "outputs": [
    {
     "name": "stderr",
     "output_type": "stream",
     "text": [
      "C:\\Users\\aadit\\AppData\\Local\\Temp\\ipykernel_2040\\2438084875.py:1: FutureWarning: The default value of numeric_only in DataFrame.corr is deprecated. In a future version, it will default to False. Select only valid columns or specify the value of numeric_only to silence this warning.\n",
      "  corr = df.corr()\n"
     ]
    },
    {
     "data": {
      "text/html": [
       "<div>\n",
       "<style scoped>\n",
       "    .dataframe tbody tr th:only-of-type {\n",
       "        vertical-align: middle;\n",
       "    }\n",
       "\n",
       "    .dataframe tbody tr th {\n",
       "        vertical-align: top;\n",
       "    }\n",
       "\n",
       "    .dataframe thead th {\n",
       "        text-align: right;\n",
       "    }\n",
       "</style>\n",
       "<table border=\"1\" class=\"dataframe\">\n",
       "  <thead>\n",
       "    <tr style=\"text-align: right;\">\n",
       "      <th></th>\n",
       "      <th>sepal_length</th>\n",
       "      <th>sepal_width</th>\n",
       "      <th>petal_length</th>\n",
       "      <th>petal_width</th>\n",
       "    </tr>\n",
       "  </thead>\n",
       "  <tbody>\n",
       "    <tr>\n",
       "      <th>sepal_length</th>\n",
       "      <td>1.000000</td>\n",
       "      <td>-0.109369</td>\n",
       "      <td>0.871754</td>\n",
       "      <td>0.817954</td>\n",
       "    </tr>\n",
       "    <tr>\n",
       "      <th>sepal_width</th>\n",
       "      <td>-0.109369</td>\n",
       "      <td>1.000000</td>\n",
       "      <td>-0.420516</td>\n",
       "      <td>-0.356544</td>\n",
       "    </tr>\n",
       "    <tr>\n",
       "      <th>petal_length</th>\n",
       "      <td>0.871754</td>\n",
       "      <td>-0.420516</td>\n",
       "      <td>1.000000</td>\n",
       "      <td>0.962757</td>\n",
       "    </tr>\n",
       "    <tr>\n",
       "      <th>petal_width</th>\n",
       "      <td>0.817954</td>\n",
       "      <td>-0.356544</td>\n",
       "      <td>0.962757</td>\n",
       "      <td>1.000000</td>\n",
       "    </tr>\n",
       "  </tbody>\n",
       "</table>\n",
       "</div>"
      ],
      "text/plain": [
       "              sepal_length  sepal_width  petal_length  petal_width\n",
       "sepal_length      1.000000    -0.109369      0.871754     0.817954\n",
       "sepal_width      -0.109369     1.000000     -0.420516    -0.356544\n",
       "petal_length      0.871754    -0.420516      1.000000     0.962757\n",
       "petal_width       0.817954    -0.356544      0.962757     1.000000"
      ]
     },
     "execution_count": 35,
     "metadata": {},
     "output_type": "execute_result"
    }
   ],
   "source": [
    "# corr() computes the correlation matrix, which tells how strongly two features are related.\n",
    "corr = df.corr()\n",
    "corr\n",
    "\n",
    "# A correlation close to 1 or -1 indicates a strong relationship."
   ]
  },
  {
   "cell_type": "code",
   "execution_count": 61,
   "id": "84a648fe",
   "metadata": {},
   "outputs": [
    {
     "name": "stdout",
     "output_type": "stream",
     "text": [
      "Independent Features:\n",
      " ['sepal_width']\n"
     ]
    },
    {
     "data": {
      "text/plain": [
       "'An independent feature is a numerical variable that does not have a strong correlation with other features in the dataset. \\nThis means that the feature provides unique information and is not redundant.'"
      ]
     },
     "execution_count": 61,
     "metadata": {},
     "output_type": "execute_result"
    }
   ],
   "source": [
    "# Independent features identification (assuming 0.8 for correlation)\n",
    "independent_features = [column for column in iris_numeric.columns if all(abs(corr[column].drop(column)) < 0.8)]\n",
    "print(\"Independent Features:\\n\", independent_features)\n",
    "\n",
    "'''Selects the feature that have correlation less than 0.6. Helps identify redundant features.'''\n",
    "\n",
    "'''An independent feature is a numerical variable that does not have a strong correlation with other features in the dataset. \n",
    "This means that the feature provides unique information and is not redundant.'''"
   ]
  },
  {
   "cell_type": "code",
   "execution_count": 59,
   "id": "5e61ded7",
   "metadata": {},
   "outputs": [
    {
     "name": "stdout",
     "output_type": "stream",
     "text": [
      "Dependent Features:\n",
      " ['petal_length', 'petal_width']\n"
     ]
    }
   ],
   "source": [
    "# Dependent features identification (assuming 0.8 for correlation)\n",
    "dependent_features = [column for column in iris_numeric.columns if all(abs(corr[column]) > 0.3)]\n",
    "print(\"Dependent Features:\\n\", dependent_features)"
   ]
  },
  {
   "cell_type": "code",
   "execution_count": 38,
   "id": "4fe6008f",
   "metadata": {},
   "outputs": [
    {
     "name": "stdout",
     "output_type": "stream",
     "text": [
      "Unwanted Features:\n",
      " []\n"
     ]
    }
   ],
   "source": [
    "# Unwanted features (low variance threshold)\n",
    "low_variance_features = [column for column in iris_numeric.columns if iris_numeric[column].var() < 0.1]\n",
    "print(\"Unwanted Features:\\n\", low_variance_features)\n",
    "\n",
    "# If a feature has a very low variance, it doesn’t contribute much information."
   ]
  },
  {
   "cell_type": "code",
   "execution_count": 42,
   "id": "8c33863c",
   "metadata": {},
   "outputs": [
    {
     "name": "stdout",
     "output_type": "stream",
     "text": [
      "Binned Data:\n",
      "      sepal_length  sepal_length_binned\n",
      "0             5.1                    0\n",
      "1             4.9                    0\n",
      "2             4.7                    0\n",
      "3             4.6                    0\n",
      "4             5.0                    0\n",
      "..            ...                  ...\n",
      "145           6.7                    3\n",
      "146           6.3                    2\n",
      "147           6.5                    3\n",
      "148           6.2                    2\n",
      "149           5.9                    2\n",
      "\n",
      "[150 rows x 2 columns]\n"
     ]
    }
   ],
   "source": [
    "# Data discretization using equi-frequency binning for column 'sepal_length'\n",
    "\n",
    "# Data discretization is the process of converting continuous numerical data into discrete categories\n",
    "\n",
    "num_bins = 4\n",
    "df['sepal_length_binned'] = pd.qcut(df['sepal_length'], q=num_bins, labels=False)\n",
    "print(\"Binned Data:\\n\", df[['sepal_length', 'sepal_length_binned']])\n",
    "\n",
    "# Splits sepal_length into 4 bins of equal frequency."
   ]
  },
  {
   "cell_type": "code",
   "execution_count": 43,
   "id": "04ab1f88",
   "metadata": {},
   "outputs": [
    {
     "name": "stdout",
     "output_type": "stream",
     "text": [
      "Min-Max Normalized Data:\n",
      "      sepal_length  sepal_width  petal_length  petal_width\n",
      "0        0.222222     0.625000      0.067797     0.041667\n",
      "1        0.166667     0.416667      0.067797     0.041667\n",
      "2        0.111111     0.500000      0.050847     0.041667\n",
      "3        0.083333     0.458333      0.084746     0.041667\n",
      "4        0.194444     0.666667      0.067797     0.041667\n",
      "..            ...          ...           ...          ...\n",
      "145      0.666667     0.416667      0.711864     0.916667\n",
      "146      0.555556     0.208333      0.677966     0.750000\n",
      "147      0.611111     0.416667      0.711864     0.791667\n",
      "148      0.527778     0.583333      0.745763     0.916667\n",
      "149      0.444444     0.416667      0.694915     0.708333\n",
      "\n",
      "[150 rows x 4 columns]\n"
     ]
    }
   ],
   "source": [
    "# Normalization\n",
    "scaler_minmax = MinMaxScaler()\n",
    "iris_minmax = pd.DataFrame(scaler_minmax.fit_transform(iris_numeric), columns=iris_numeric.columns)\n",
    "print(\"Min-Max Normalized Data:\\n\", iris_minmax)\n",
    "\n",
    "# Scales values between 0 and 1."
   ]
  },
  {
   "cell_type": "code",
   "execution_count": 60,
   "id": "e12d71ca",
   "metadata": {},
   "outputs": [
    {
     "name": "stdout",
     "output_type": "stream",
     "text": [
      "Z-Score Normalized Data:\n",
      "      sepal_length  sepal_width  petal_length  petal_width\n",
      "0       -0.900681     1.032057     -1.341272    -1.312977\n",
      "1       -1.143017    -0.124958     -1.341272    -1.312977\n",
      "2       -1.385353     0.337848     -1.398138    -1.312977\n",
      "3       -1.506521     0.106445     -1.284407    -1.312977\n",
      "4       -1.021849     1.263460     -1.341272    -1.312977\n",
      "..            ...          ...           ...          ...\n",
      "145      1.038005    -0.124958      0.819624     1.447956\n",
      "146      0.553333    -1.281972      0.705893     0.922064\n",
      "147      0.795669    -0.124958      0.819624     1.053537\n",
      "148      0.432165     0.800654      0.933356     1.447956\n",
      "149      0.068662    -0.124958      0.762759     0.790591\n",
      "\n",
      "[150 rows x 4 columns]\n"
     ]
    }
   ],
   "source": [
    "# Z-Score normalization\n",
    "scaler_zscore = StandardScaler()\n",
    "iris_zscore = pd.DataFrame(scaler_zscore.fit_transform(iris_numeric), columns=iris_numeric.columns)\n",
    "print(\"Z-Score Normalized Data:\\n\", iris_zscore)\n",
    "\n",
    "# Centers data around mean = 0 and std = 1."
   ]
  },
  {
   "cell_type": "code",
   "execution_count": 45,
   "id": "8ff6defe",
   "metadata": {},
   "outputs": [
    {
     "name": "stdout",
     "output_type": "stream",
     "text": [
      "Decimal Scaled Data:\n",
      "      sepal_length  sepal_width  petal_length  petal_width\n",
      "0            0.51         0.35          0.14         0.02\n",
      "1            0.49         0.30          0.14         0.02\n",
      "2            0.47         0.32          0.13         0.02\n",
      "3            0.46         0.31          0.15         0.02\n",
      "4            0.50         0.36          0.14         0.02\n",
      "..            ...          ...           ...          ...\n",
      "145          0.67         0.30          0.52         0.23\n",
      "146          0.63         0.25          0.50         0.19\n",
      "147          0.65         0.30          0.52         0.20\n",
      "148          0.62         0.34          0.54         0.23\n",
      "149          0.59         0.30          0.51         0.18\n",
      "\n",
      "[150 rows x 4 columns]\n"
     ]
    }
   ],
   "source": [
    "# Decimal Scaling Normalization\n",
    "def decimal_scaling(column):\n",
    "    max_val = abs(column).max() # Find max absolute value\n",
    "    scaling_factor = 10 ** len(str(int(max_val))) # Determine j\n",
    "    return column / scaling_factor # apply scaling\n",
    "\n",
    "iris_decimal_scaled = iris_numeric.apply(decimal_scaling)\n",
    "print(\"Decimal Scaled Data:\\n\", iris_decimal_scaled)\n",
    "\n",
    "'''Decimal Scaling is a normalization technique where we move the decimal point of the values to scale \n",
    "them within a specific range. It is based on the maximum absolute value in the dataset.'''"
   ]
  },
  {
   "cell_type": "code",
   "execution_count": 62,
   "id": "2689324e",
   "metadata": {},
   "outputs": [
    {
     "ename": "NameError",
     "evalue": "name 'max_val' is not defined",
     "output_type": "error",
     "traceback": [
      "\u001b[1;31m---------------------------------------------------------------------------\u001b[0m",
      "\u001b[1;31mNameError\u001b[0m                                 Traceback (most recent call last)",
      "Cell \u001b[1;32mIn[62], line 1\u001b[0m\n\u001b[1;32m----> 1\u001b[0m max_val\n",
      "\u001b[1;31mNameError\u001b[0m: name 'max_val' is not defined"
     ]
    }
   ],
   "source": [
    "max_val"
   ]
  },
  {
   "cell_type": "code",
   "execution_count": null,
   "id": "045a87d2",
   "metadata": {},
   "outputs": [],
   "source": []
  }
 ],
 "metadata": {
  "kernelspec": {
   "display_name": "Python 3 (ipykernel)",
   "language": "python",
   "name": "python3"
  },
  "language_info": {
   "codemirror_mode": {
    "name": "ipython",
    "version": 3
   },
   "file_extension": ".py",
   "mimetype": "text/x-python",
   "name": "python",
   "nbconvert_exporter": "python",
   "pygments_lexer": "ipython3",
   "version": "3.11.5"
  }
 },
 "nbformat": 4,
 "nbformat_minor": 5
}
